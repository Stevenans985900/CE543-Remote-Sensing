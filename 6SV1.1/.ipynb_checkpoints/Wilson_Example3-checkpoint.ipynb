{
 "cells": [
  {
   "cell_type": "markdown",
   "metadata": {},
   "source": [
    "# Example 3 from [Wilson (2012)](http://rtwilson.com/academic/Wilson_2012_Py6S_Paper.pdf)"
   ]
  },
  {
   "cell_type": "code",
   "execution_count": null,
   "metadata": {},
   "outputs": [],
   "source": [
    "%pylab inline"
   ]
  },
  {
   "cell_type": "code",
   "execution_count": null,
   "metadata": {},
   "outputs": [],
   "source": [
    "# ....Example 3 from Wilson (2012)\n",
    "from Py6S import *\n",
    "\n",
    "s = SixS()\n",
    "\n",
    "# Set solar azimuth and zenith angles and wavelength\n",
    "s.geometry.solar_a = 0\n",
    "s.geometry.solar_z = 30\n",
    "s.wavelength = Wavelength(0.550)\n",
    "\n",
    "# Set the directional ground reflectance to be modeled\n",
    "# by the Roujean BRDF model, using parameters for a pine forest\n",
    "# (parameters taken from Roujean et al., 1992)\n",
    "s.ground_reflectance = GroundReflectance.HomogeneousRoujean(0.037, 0.0, 0.133) "
   ]
  },
  {
   "cell_type": "code",
   "execution_count": null,
   "metadata": {},
   "outputs": [],
   "source": [
    "# Run the model and plot the results, varying the view angle (the other\n",
    "# option is to vary the solar angle) and plotting the pixel radiance. \n",
    "SixSHelpers.Angles.run_and_plot_360(s, 'view', 'pixel_radiance', colorbarlabel=r\"At-sensor Spectral Radiance ($W/m^2\\!/\\mu m$)\") "
   ]
  }
 ],
 "metadata": {
  "kernelspec": {
   "display_name": "Python 3",
   "language": "python",
   "name": "python3"
  },
  "language_info": {
   "codemirror_mode": {
    "name": "ipython",
    "version": 3
   },
   "file_extension": ".py",
   "mimetype": "text/x-python",
   "name": "python",
   "nbconvert_exporter": "python",
   "pygments_lexer": "ipython3",
   "version": "3.7.3"
  }
 },
 "nbformat": 4,
 "nbformat_minor": 2
}
