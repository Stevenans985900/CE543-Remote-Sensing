{
 "cells": [
  {
   "cell_type": "markdown",
   "metadata": {},
   "source": [
    "# Example 1 from [Wilson (2012)](http://rtwilson.com/academic/Wilson_2012_Py6S_Paper.pdf)"
   ]
  },
  {
   "cell_type": "code",
   "execution_count": null,
   "metadata": {},
   "outputs": [],
   "source": [
    "from Py6S import *\n",
    "\n",
    "# Create an object to hold the 6S parameters\n",
    "s = SixS()\n",
    "\n",
    "# Set the atmospheric profile to Tropical\n",
    "s.atmos_profile = AtmosProfile.PredefinedType(AtmosProfile.Tropical)\n",
    "\n",
    "# Set the wavelength to 0.357um\n",
    "s.wavelength = Wavelength(0.357)"
   ]
  },
  {
   "cell_type": "code",
   "execution_count": null,
   "metadata": {},
   "outputs": [],
   "source": [
    "# Run the model and print some outputs \n",
    "s.run()\n",
    "print(s.outputs.pixel_radiance)\n",
    "print(s.outputs.background_radiance)\n",
    "print(s.outputs.single_scattering_albedo)\n",
    "print(s.outputs.transmittance_water.downward)"
   ]
  }
 ],
 "metadata": {
  "kernelspec": {
   "display_name": "Python 3",
   "language": "python",
   "name": "python3"
  },
  "language_info": {
   "codemirror_mode": {
    "name": "ipython",
    "version": 3
   },
   "file_extension": ".py",
   "mimetype": "text/x-python",
   "name": "python",
   "nbconvert_exporter": "python",
   "pygments_lexer": "ipython3",
   "version": "3.7.3"
  }
 },
 "nbformat": 4,
 "nbformat_minor": 2
}
