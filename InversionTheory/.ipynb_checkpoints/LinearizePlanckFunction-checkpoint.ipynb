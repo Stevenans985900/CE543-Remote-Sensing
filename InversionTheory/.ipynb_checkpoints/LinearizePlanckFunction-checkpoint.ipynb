{
 "cells": [
  {
   "cell_type": "code",
   "execution_count": 6,
   "metadata": {},
   "outputs": [
    {
     "name": "stdout",
     "output_type": "stream",
     "text": [
      "Populating the interactive namespace from numpy and matplotlib\n"
     ]
    }
   ],
   "source": [
    "%pylab inline"
   ]
  },
  {
   "cell_type": "markdown",
   "metadata": {},
   "source": [
    "#### From Chapter 1 of Twomey (1977)\n",
    "\n",
    "$$ B(\\lambda, T) = \\alpha_{\\lambda} B(\\bar{\\lambda}, T) + \\beta_{\\lambda} $$"
   ]
  },
  {
   "cell_type": "code",
   "execution_count": 7,
   "metadata": {},
   "outputs": [],
   "source": [
    "from bt2rad import bt2rad\n",
    "import numpy as np"
   ]
  },
  {
   "cell_type": "code",
   "execution_count": 24,
   "metadata": {},
   "outputs": [],
   "source": [
    "T = np.arange(230,300,10)\n",
    "B = bt2rad(675., T)            # 675 cm-1 is near the center for the 15-um CO2 band"
   ]
  },
  {
   "cell_type": "code",
   "execution_count": 25,
   "metadata": {},
   "outputs": [
    {
     "data": {
      "text/plain": [
       "[<matplotlib.lines.Line2D at 0x1229d4c50>]"
      ]
     },
     "execution_count": 25,
     "metadata": {},
     "output_type": "execute_result"
    },
    {
     "data": {
      "image/png": "[encoded data removed]",
      "text/plain": [
       "<Figure size 432x288 with 1 Axes>"
      ]
     },
     "metadata": {
      "needs_background": "light"
     },
     "output_type": "display_data"
    }
   ],
   "source": [
    "plot(T,B,'.')\n",
    "xlabel('Temperature (K)')\n",
    "ylabel('Radiance')"
   ]
  },
  {
   "cell_type": "code",
   "execution_count": 26,
   "metadata": {
    "scrolled": false
   },
   "outputs": [
    {
     "data": {
      "text/plain": [
       "[<matplotlib.lines.Line2D at 0x122aba2e8>,\n",
       " <matplotlib.lines.Line2D at 0x122aba470>]"
      ]
     },
     "execution_count": 26,
     "metadata": {},
     "output_type": "execute_result"
    },
    {
     "data": {
      "image/png": "[encoded data removed]",
      "text/plain": [
       "<Figure size 432x288 with 1 Axes>"
      ]
     },
     "metadata": {
      "needs_background": "light"
     },
     "output_type": "display_data"
    }
   ],
   "source": [
    "p = np.polyfit(T,B,1)\n",
    "plot(T,B,'.', T,polyval(p,wn),'r--')\n",
    "xlabel('Temperature (K)')\n",
    "ylabel('Radiance')"
   ]
  },
  {
   "cell_type": "code",
   "execution_count": 29,
   "metadata": {},
   "outputs": [
    {
     "data": {
      "text/plain": [
       "<matplotlib.legend.Legend at 0x122ca69b0>"
      ]
     },
     "execution_count": 29,
     "metadata": {},
     "output_type": "execute_result"
    },
    {
     "data": {
      "image/png": "[encoded data removed]",
      "text/plain": [
       "<Figure size 432x288 with 1 Axes>"
      ]
     },
     "metadata": {
      "needs_background": "light"
     },
     "output_type": "display_data"
    }
   ],
   "source": [
    "figure()\n",
    "plot(T, bt2rad(675., T), '.', T, bt2rad(700., T), '.', T, bt2rad(725., T), '.')\n",
    "xlabel('Temperature (K)')\n",
    "ylabel('Radiance')\n",
    "legend(('675 cm-1', '700 cm-1', '725 cm-1'), loc='best')"
   ]
  },
  {
   "cell_type": "code",
   "execution_count": 30,
   "metadata": {},
   "outputs": [],
   "source": [
    "p1 = np.polyfit(T, bt2rad(675., T), 1)\n",
    "p2 = np.polyfit(T, bt2rad(700., T), 1)\n",
    "p3 = np.polyfit(T, bt2rad(725., T), 1)"
   ]
  },
  {
   "cell_type": "code",
   "execution_count": 32,
   "metadata": {},
   "outputs": [
    {
     "data": {
      "text/plain": [
       "[array([   1.31488375, -250.3667531 ]),\n",
       " array([   1.31639086, -253.49107034]),\n",
       " array([   1.3123575 , -255.37736595])]"
      ]
     },
     "execution_count": 32,
     "metadata": {},
     "output_type": "execute_result"
    }
   ],
   "source": [
    "[p1, p2, p3]"
   ]
  },
  {
   "cell_type": "code",
   "execution_count": 57,
   "metadata": {},
   "outputs": [
    {
     "data": {
      "text/plain": [
       "array([[212.26116891,   0.        ,   0.        ],\n",
       "       [  0.        , 212.87461617,   0.        ],\n",
       "       [  0.        ,   0.        , 213.48193671]])"
      ]
     },
     "execution_count": 57,
     "metadata": {},
     "output_type": "execute_result"
    }
   ],
   "source": [
    "T = 200.\n",
    "a = np.array([p1[0], p2[0], p3[0]])\n",
    "b = np.array([p1[1], p2[1], p3[1]])\n",
    "\n",
    "B = bt2rad(np.array([675., 700., 725.]), T)\n",
    "\n",
    "np.linalg.inv(a*np.identity(3)) * (B - b)"
   ]
  },
  {
   "cell_type": "code",
   "execution_count": null,
   "metadata": {},
   "outputs": [],
   "source": []
  }
 ],
 "metadata": {
  "kernelspec": {
   "display_name": "Python 3",
   "language": "python",
   "name": "python3"
  },
  "language_info": {
   "codemirror_mode": {
    "name": "ipython",
    "version": 3
   },
   "file_extension": ".py",
   "mimetype": "text/x-python",
   "name": "python",
   "nbconvert_exporter": "python",
   "pygments_lexer": "ipython3",
   "version": "3.7.3"
  }
 },
 "nbformat": 4,
 "nbformat_minor": 2
}
