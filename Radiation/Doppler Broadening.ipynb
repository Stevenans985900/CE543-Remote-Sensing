{
 "cells": [
  {
   "cell_type": "markdown",
   "metadata": {},
   "source": [
    "# Doppler Broadening"
   ]
  },
  {
   "cell_type": "markdown",
   "metadata": {},
   "source": [
    "<i>© Von P. Walden, Washington State University</i>"
   ]
  },
  {
   "cell_type": "markdown",
   "metadata": {},
   "source": [
    "## Calculation of the Doppler line shape, caused by relative velocities within a gas."
   ]
  },
  {
   "cell_type": "code",
   "execution_count": 1,
   "metadata": {},
   "outputs": [
    {
     "name": "stdout",
     "output_type": "stream",
     "text": [
      "Populating the interactive namespace from numpy and matplotlib\n"
     ]
    }
   ],
   "source": [
    "%pylab inline"
   ]
  },
  {
   "cell_type": "code",
   "execution_count": 12,
   "metadata": {},
   "outputs": [],
   "source": [
    "v0 = 31.26e12            # 1042 cm-1 (for Ozone).\n",
    "kB = 1.3806488e-23       # Boltzmann constant\n",
    "m  = (3.*16) / 6.02e23   # Molar mass divided by Avogadro's number\n",
    "c2 = (3e8)**2            # Speed of light squared.\n",
    "T  = 300.               # Kelvin\n",
    "aD = v0 * (2.*kB*T/(m*c2))"
   ]
  },
  {
   "cell_type": "code",
   "execution_count": 13,
   "metadata": {},
   "outputs": [
    {
     "data": {
      "text/plain": [
       "0.03608578757746667"
      ]
     },
     "execution_count": 13,
     "metadata": {},
     "output_type": "execute_result"
    }
   ],
   "source": [
    "aD"
   ]
  },
  {
   "cell_type": "code",
   "execution_count": 14,
   "metadata": {},
   "outputs": [],
   "source": [
    "vij = 1042.            # cm-1\n",
    "c   = 2.99792458e10    # cm s-1\n",
    "Na  = 6.02214129e23    # mo1-1\n",
    "k   = 1.3806488e-16    # erg K-1\n",
    "M   = 48.00            # Molar mass of ozone in grams mo1-1"
   ]
  },
  {
   "cell_type": "code",
   "execution_count": 15,
   "metadata": {},
   "outputs": [
    {
     "name": "stdout",
     "output_type": "stream",
     "text": [
      "0.0009328929976518732\n"
     ]
    }
   ],
   "source": [
    "aD = (vij / c) * (2.*Na*k*T*log(2)/M)**0.5\n",
    "print(aD)"
   ]
  },
  {
   "cell_type": "code",
   "execution_count": 16,
   "metadata": {},
   "outputs": [
    {
     "data": {
      "text/plain": [
       "Text(0.5, 1.0, 'Doppler Line Shape (Doppler broadening)')"
      ]
     },
     "execution_count": 16,
     "metadata": {},
     "output_type": "execute_result"
    },
    {
     "data": {
      "image/png": "[encoded data removed]",
      "text/plain": [
       "<Figure size 432x288 with 1 Axes>"
      ]
     },
     "metadata": {
      "needs_background": "light"
     },
     "output_type": "display_data"
    }
   ],
   "source": [
    "varr = arange(-0.1,0.1,0.001)\n",
    "fD = 1./(aD*pi**0.5)*exp(-varr**2 / aD**2)\n",
    "\n",
    "plot(varr/aD,fD)\n",
    "xlabel('(v-v0)')\n",
    "ylabel('Normalized f(v-v0)')\n",
    "title('Doppler Line Shape (Doppler broadening)')"
   ]
  },
  {
   "cell_type": "code",
   "execution_count": 46,
   "metadata": {},
   "outputs": [
    {
     "data": {
      "text/plain": [
       "<matplotlib.legend.Legend at 0x10e304450>"
      ]
     },
     "execution_count": 46,
     "metadata": {},
     "output_type": "execute_result"
    }
   ],
   "source": [
    "#legend(('288 K','217 K','271 K','236 K'),loc='best')"
   ]
  }
 ],
 "metadata": {
  "kernelspec": {
   "display_name": "Python 3",
   "language": "python",
   "name": "python3"
  },
  "language_info": {
   "codemirror_mode": {
    "name": "ipython",
    "version": 3
   },
   "file_extension": ".py",
   "mimetype": "text/x-python",
   "name": "python",
   "nbconvert_exporter": "python",
   "pygments_lexer": "ipython3",
   "version": "3.7.3"
  },
  "widgets": {
   "state": {},
   "version": "1.1.1"
  }
 },
 "nbformat": 4,
 "nbformat_minor": 2
}
