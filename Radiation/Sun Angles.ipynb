{
 "cells": [
  {
   "cell_type": "markdown",
   "metadata": {},
   "source": [
    "# Sun Angles"
   ]
  },
  {
   "cell_type": "markdown",
   "metadata": {},
   "source": [
    "<i>© Von P. Walden, Washington State University</i>"
   ]
  },
  {
   "cell_type": "code",
   "execution_count": 1,
   "metadata": {
    "collapsed": false
   },
   "outputs": [
    {
     "name": "stdout",
     "output_type": "stream",
     "text": [
      "Populating the interactive namespace from numpy and matplotlib\n"
     ]
    }
   ],
   "source": [
    "%pylab inline"
   ]
  },
  {
   "cell_type": "markdown",
   "metadata": {},
   "source": [
    "## Calculates the diurnal cycle for a given longitude, latitude and day of year."
   ]
  },
  {
   "cell_type": "code",
   "execution_count": 2,
   "metadata": {
    "collapsed": false
   },
   "outputs": [],
   "source": [
    "import ephem\n",
    "from datetime import datetime, timedelta"
   ]
  },
  {
   "cell_type": "code",
   "execution_count": 3,
   "metadata": {
    "collapsed": false
   },
   "outputs": [],
   "source": [
    "site = ephem.Observer()\n",
    "\n",
    "# INPUT THE LONGITUDE AND LATITUDE MANUALLY\n",
    "#site.lon, site.lat = '-117.', '+46.'      # Moscow-Pullman\n",
    "#site.lon, site.lat = '0.', '72.5'      # Summit Station, Greenland\n",
    "site.lon, site.lat = '0.', '-80.'       # Antarctica"
   ]
  },
  {
   "cell_type": "code",
   "execution_count": 4,
   "metadata": {
    "collapsed": false
   },
   "outputs": [],
   "source": [
    "# USE THE CURRENT DAY\n",
    "#utc = datetime.utcnow()\n",
    "\n",
    "# INPUT THE DAY MANUALLY\n",
    "utc = datetime(2014,2,28)\n",
    "\n",
    "site.date = utc.strftime('%Y/%m/%d')\n",
    "utcday    = datetime(utc.year, utc.month, utc.day)"
   ]
  },
  {
   "cell_type": "code",
   "execution_count": 5,
   "metadata": {
    "collapsed": false
   },
   "outputs": [],
   "source": [
    "sun = ephem.Sun()\n",
    "sun.compute(site)\n",
    "time = array([])\n",
    "alt  = array([])\n",
    "azi  = array([])\n",
    "for hour in range(48):                                    # At 30-minute resolution        \n",
    "    time = append(time,utcday + timedelta(hour/48.))\n",
    "    alt  = append(alt,sun.alt)\n",
    "    azi  = append(azi,sun.az)\n",
    "    \n",
    "    site.date += ephem.minute * 30.\n",
    "    sun.compute(site)\n"
   ]
  },
  {
   "cell_type": "code",
   "execution_count": 6,
   "metadata": {
    "collapsed": false
   },
   "outputs": [
    {
     "data": {
      "image/png": "[encoded data removed]",
      "text/plain": [
       "<matplotlib.figure.Figure at 0x112deac18>"
      ]
     },
     "metadata": {},
     "output_type": "display_data"
    }
   ],
   "source": [
    "figure(figsize=(14,10))\n",
    "# All points in black.\n",
    "plot_date(time,alt*180./pi,'ko')\n",
    "\n",
    "# Daytime points in yellow.\n",
    "day = alt>0.\n",
    "plot_date(time[day],alt[day]*180./pi,'yo')\n",
    "title(str(utcday))\n",
    "\n",
    "# Improve formatting.\n",
    "axhline(0,color='k',linestyle='--')\n",
    "gcf().autofmt_xdate()"
   ]
  },
  {
   "cell_type": "code",
   "execution_count": 7,
   "metadata": {
    "collapsed": false
   },
   "outputs": [
    {
     "name": "stdout",
     "output_type": "stream",
     "text": [
      "Approximate length of day is: 19.5 hours\n"
     ]
    }
   ],
   "source": [
    "ind = find(day>0.)\n",
    "daylength = float(len(ind))/float(len(time)) * 24.\n",
    "print('Approximate length of day is:', daylength, 'hours')"
   ]
  }
 ],
 "metadata": {
  "kernelspec": {
   "display_name": "Python 3",
   "language": "python",
   "name": "python3"
  },
  "language_info": {
   "codemirror_mode": {
    "name": "ipython",
    "version": 3
   },
   "file_extension": ".py",
   "mimetype": "text/x-python",
   "name": "python",
   "nbconvert_exporter": "python",
   "pygments_lexer": "ipython3",
   "version": "3.6.0"
  }
 },
 "nbformat": 4,
 "nbformat_minor": 2
}
