{
 "cells": [
  {
   "cell_type": "markdown",
   "metadata": {},
   "source": [
    "## Wien's Law"
   ]
  },
  {
   "cell_type": "markdown",
   "metadata": {},
   "source": [
    "<i>© Von P. Walden, Washington State University</i>"
   ]
  },
  {
   "cell_type": "code",
   "execution_count": null,
   "metadata": {},
   "outputs": [],
   "source": [
    "%pylab inline\n",
    "from bt2rad_wv import bt2rad_wv"
   ]
  },
  {
   "cell_type": "code",
   "execution_count": null,
   "metadata": {},
   "outputs": [],
   "source": [
    "wv = np.arange(0.1, 100000, 0.05)\n",
    "T  = np.array([3., 10., 30., 100., 300., 1000., 3000., 10000.])"
   ]
  },
  {
   "cell_type": "markdown",
   "metadata": {},
   "source": [
    "### Planck Function at mean the temperature of Earth (288 K)"
   ]
  },
  {
   "cell_type": "code",
   "execution_count": null,
   "metadata": {
    "scrolled": false
   },
   "outputs": [],
   "source": [
    "figure(figsize=(16,8))\n",
    "loglog(wv,bt2rad_wv(wv,288.))\n",
    "axis([0.1, 100000, 10e-11, 100]);\n",
    "xlabel('WAVELENGTH (um)')\n",
    "ylabel('PLANCK RADIANCE (W m-2 sr-1 um-1)')\n",
    "title('Planck Functions at mean temperature of Earth (288 K)')"
   ]
  },
  {
   "cell_type": "markdown",
   "metadata": {},
   "source": [
    "### Planck Functions at Temperature of Sun and Earth (5800K, 288 K)"
   ]
  },
  {
   "cell_type": "code",
   "execution_count": null,
   "metadata": {
    "scrolled": false
   },
   "outputs": [],
   "source": [
    "figure(figsize=(16,8))\n",
    "loglog(wv,bt2rad_wv(wv,288.))\n",
    "loglog(wv,bt2rad_wv(wv,5800.),'r')\n",
    "axis([0.1, 100000, 10e-11, 10e9]);\n",
    "xlabel('WAVELENGTH (um)')\n",
    "ylabel('PLANCK RADIANCE (W m-2 sr-1 um-1)')\n",
    "title('Planck Functions at Temperatures of Sun and Earth')\n",
    "legend(['Earth', 'Sun'])"
   ]
  },
  {
   "cell_type": "markdown",
   "metadata": {},
   "source": [
    "### Planck Functions at Temperatures between 3 and 10,000 K"
   ]
  },
  {
   "cell_type": "code",
   "execution_count": null,
   "metadata": {},
   "outputs": [],
   "source": [
    "rad3K     = bt2rad_wv(wv,T[0])\n",
    "rad10K    = bt2rad_wv(wv,T[1])\n",
    "rad30K    = bt2rad_wv(wv,T[2])\n",
    "rad100K   = bt2rad_wv(wv,T[3])\n",
    "rad300K   = bt2rad_wv(wv,T[4])\n",
    "rad1000K  = bt2rad_wv(wv,T[5])\n",
    "rad3000K  = bt2rad_wv(wv,T[6])\n",
    "rad10000K = bt2rad_wv(wv,T[7])"
   ]
  },
  {
   "cell_type": "code",
   "execution_count": null,
   "metadata": {},
   "outputs": [],
   "source": [
    "figure(figsize=(16,8))\n",
    "loglog(wv,rad3K,\n",
    "       wv,rad10K,\n",
    "       wv,rad30K,\n",
    "       wv,rad100K,\n",
    "       wv,rad300K,\n",
    "       wv,rad1000K,\n",
    "       wv,rad3000K,\n",
    "       wv,rad10000K)\n",
    "axis([0.1, 100000, 10e-11, 10e10]);\n",
    "xlabel('WAVELENGTH (um)')\n",
    "ylabel('PLANCK RADIANCE (W m-2 sr-1 um-1)')\n",
    "title('Collection of Planck Functions from 3 K to 10,000 K')\n",
    "legend(['3 K', '10 K', '30 K', '100 K', '300 K', '1000 K', '3000 K', '10000 K'])"
   ]
  },
  {
   "cell_type": "markdown",
   "metadata": {},
   "source": [
    "### Now place a marker at where the Planck functions peak"
   ]
  },
  {
   "cell_type": "code",
   "execution_count": null,
   "metadata": {},
   "outputs": [],
   "source": [
    "max_rad = np.array([max(rad3K),\n",
    "                    max(rad10K),\n",
    "                    max(rad30K),\n",
    "                    max(rad100K),\n",
    "                    max(rad300K),\n",
    "                    max(rad1000K),\n",
    "                    max(rad3000K),\n",
    "                    max(rad10000K)])\n",
    "wv_rad  = np.array([wv[max_rad[0] == rad3K],\n",
    "                    wv[max_rad[1] == rad10K],\n",
    "                    wv[max_rad[2] == rad30K],\n",
    "                    wv[max_rad[3] == rad100K],\n",
    "                    wv[max_rad[4] == rad300K],\n",
    "                    wv[max_rad[5] == rad1000K],\n",
    "                    wv[max_rad[6] == rad3000K],\n",
    "                    wv[max_rad[7] == rad10000K]])"
   ]
  },
  {
   "cell_type": "code",
   "execution_count": null,
   "metadata": {
    "scrolled": false
   },
   "outputs": [],
   "source": [
    "figure(figsize=(16,8))\n",
    "loglog(wv,rad3K,\n",
    "       wv,rad10K,\n",
    "       wv,rad30K,\n",
    "       wv,rad100K,\n",
    "       wv,rad300K,\n",
    "       wv,rad1000K,\n",
    "       wv,rad3000K,\n",
    "       wv,rad10000K)\n",
    "loglog(wv_rad, max_rad,'ko')\n",
    "axis([0.1, 100000, 10e-11, 10e10]);\n",
    "xlabel('WAVELENGTH (um)')\n",
    "ylabel('PLANCK RADIANCE (W m-2 sr-1 um-1)')\n",
    "title('Collection of Planck Functions from 3 K to 10,000 K')\n",
    "legend(['3 K', '10 K', '30 K', '100 K', '300 K', '1000 K', '3000 K', '10000 K'])"
   ]
  },
  {
   "cell_type": "markdown",
   "metadata": {},
   "source": [
    "### Now Wien's Law"
   ]
  },
  {
   "cell_type": "markdown",
   "metadata": {},
   "source": [
    "#### Plot the wavelengths of maximum emission as a function of temperature."
   ]
  },
  {
   "cell_type": "code",
   "execution_count": null,
   "metadata": {
    "scrolled": false
   },
   "outputs": [],
   "source": [
    "figure(figsize=(16,8))\n",
    "loglog(T,wv_rad,'ko')\n",
    "xlabel('TEMPERATURE (K)');\n",
    "ylabel('MAXIMUM WAVELENGTH (um)');"
   ]
  },
  {
   "cell_type": "markdown",
   "metadata": {},
   "source": [
    "#### And note that Wien's Law is a fit to this line."
   ]
  },
  {
   "cell_type": "markdown",
   "metadata": {},
   "source": [
    "$$ \\lambda_{max} = \\frac{2897 \\mu m K}{T (in K)} $$"
   ]
  },
  {
   "cell_type": "code",
   "execution_count": null,
   "metadata": {},
   "outputs": [],
   "source": [
    "figure(figsize=(16,8))\n",
    "loglog(T,wv_rad,'ko',T,2897/T,'r--')\n",
    "xlabel('TEMPERATURE (K)');\n",
    "ylabel('MAXIMUM WAVELENGTH (um)');\n",
    "title('Wien''s Law');"
   ]
  }
 ],
 "metadata": {
  "kernelspec": {
   "display_name": "Python 3",
   "language": "python",
   "name": "python3"
  },
  "language_info": {
   "codemirror_mode": {
    "name": "ipython",
    "version": 3
   },
   "file_extension": ".py",
   "mimetype": "text/x-python",
   "name": "python",
   "nbconvert_exporter": "python",
   "pygments_lexer": "ipython3",
   "version": "3.6.7"
  }
 },
 "nbformat": 4,
 "nbformat_minor": 4
}
