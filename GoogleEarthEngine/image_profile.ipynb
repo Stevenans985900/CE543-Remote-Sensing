{
 "cells": [
  {
   "cell_type": "markdown",
   "metadata": {},
   "source": [
    "From https://github.com/gee-community/ee-jupyter-contrib/blob/master/examples/geometry/image_profile.ipynb"
   ]
  },
  {
   "cell_type": "code",
   "execution_count": 1,
   "metadata": {},
   "outputs": [],
   "source": [
    "%matplotlib inline\n",
    "\n",
    "import matplotlib.pyplot as plt\n",
    "\n",
    "import ee; ee.Initialize()"
   ]
  },
  {
   "cell_type": "code",
   "execution_count": 2,
   "metadata": {},
   "outputs": [],
   "source": [
    "def reduceImageProfile(image, line, reducer, scale):\n",
    "    \"\"\"Returns image values reduced along given line.\n",
    "\n",
    "    Args:\n",
    "        image: Image to be reduced.\n",
    "        line: The line string used to query image values. The function splits\n",
    "            the line into smaller segments with the length equal to scale.\n",
    "            These smaller segments are then used to reduce image values with\n",
    "            the reducer.\n",
    "        reducer: Used used to reduce image values along line segments.\n",
    "        scale: Indicates scale used to cut line into shorter line segment.\n",
    "\n",
    "    Returns:\n",
    "        An ee.FeatureCollection containing distance and iamge value properties. \n",
    "    \"\"\"\n",
    "\n",
    "    length = line.length()\n",
    "    distances = ee.List.sequence(0, length, scale)\n",
    "    lines = line.cutLines(distances).geometries()\n",
    "\n",
    "    def generate_line_segment(l):\n",
    "        l = ee.List(l)\n",
    "        geom = ee.Geometry(l.get(0))\n",
    "        distance = ee.Geometry(l.get(1))\n",
    "\n",
    "        geom = ee.Algorithms.GeometryConstructors.LineString(geom.coordinates())\n",
    "\n",
    "        return ee.Feature(geom, {'distance': distance})\n",
    "\n",
    "    lines = lines.zip(distances).map(generate_line_segment)\n",
    "    lines = ee.FeatureCollection(lines)\n",
    "\n",
    "    # reduce image for every segment\n",
    "    band_names = image.bandNames()\n",
    "\n",
    "    return image.reduceRegions(lines, reducer.setOutputs(band_names), scale)"
   ]
  },
  {
   "cell_type": "code",
   "execution_count": 3,
   "metadata": {},
   "outputs": [],
   "source": [
    "# image to be queried\n",
    "image = ee.Image('USGS/NED')\n",
    "\n",
    "# a line string used to qeury image values\n",
    "line = ee.Geometry.LineString(\n",
    "        [[-114.3843, 36.4257],\n",
    "         [-114.3616, 36.4220],\n",
    "         [-114.3514, 36.4203],\n",
    "         [-114.3419, 36.4199],\n",
    "         [-114.3116, 36.4228]])"
   ]
  },
  {
   "cell_type": "code",
   "execution_count": 4,
   "metadata": {},
   "outputs": [
    {
     "data": {
      "text/plain": [
       "[<matplotlib.lines.Line2D at 0x119647cf8>]"
      ]
     },
     "execution_count": 4,
     "metadata": {},
     "output_type": "execute_result"
    },
    {
     "data": {
      "image/png": "[encoded data removed]",
      "text/plain": [
       "<Figure size 936x576 with 1 Axes>"
      ]
     },
     "metadata": {
      "needs_background": "light"
     },
     "output_type": "display_data"
    }
   ],
   "source": [
    "profile = reduceImageProfile(image, line, reducer=ee.Reducer.max(), scale=10)\n",
    "\n",
    "# fetch resulting features (line segments) to the client\n",
    "features = profile.getInfo()['features']\n",
    "\n",
    "# extract distance and elevation properties from the resulting feature collection\n",
    "x = [f['properties'].get('distance') for f in features]\n",
    "y = [f['properties'].get('elevation') for f in features]\n",
    "\n",
    "# plot\n",
    "fig, ax = plt.subplots(figsize=(13, 8))\n",
    "ax.plot(x, y)"
   ]
  },
  {
   "cell_type": "code",
   "execution_count": null,
   "metadata": {},
   "outputs": [],
   "source": []
  }
 ],
 "metadata": {
  "kernelspec": {
   "display_name": "Python 3",
   "language": "python",
   "name": "python3"
  },
  "language_info": {
   "codemirror_mode": {
    "name": "ipython",
    "version": 3
   },
   "file_extension": ".py",
   "mimetype": "text/x-python",
   "name": "python",
   "nbconvert_exporter": "python",
   "pygments_lexer": "ipython3",
   "version": "3.7.3"
  }
 },
 "nbformat": 4,
 "nbformat_minor": 4
}
